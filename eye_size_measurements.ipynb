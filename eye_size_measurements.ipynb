{
  "nbformat": 4,
  "nbformat_minor": 0,
  "metadata": {
    "colab": {
      "provenance": [],
      "authorship_tag": "ABX9TyNVm4N0HaA0tNhy40LKvKp7",
      "include_colab_link": true
    },
    "kernelspec": {
      "name": "python3",
      "display_name": "Python 3"
    },
    "language_info": {
      "name": "python"
    }
  },
  "cells": [
    {
      "cell_type": "markdown",
      "metadata": {
        "id": "view-in-github",
        "colab_type": "text"
      },
      "source": [
        "<a href=\"https://colab.research.google.com/github/Yanlin126/images_eye-size_project/blob/main/eye_size_measurements.ipynb\" target=\"_parent\"><img src=\"https://colab.research.google.com/assets/colab-badge.svg\" alt=\"Open In Colab\"/></a>"
      ]
    },
    {
      "cell_type": "code",
      "execution_count": null,
      "metadata": {
        "id": "UtzqNQRv43SY"
      },
      "outputs": [],
      "source": [
        "import cv2\n",
        "import numpy as np\n",
        "import pandas as pd"
      ]
    },
    {
      "cell_type": "code",
      "source": [
        "# Step 1: Load the sample image\n",
        "from google.colab import drive\n",
        "import os\n",
        "\n",
        "# Mount Google Drive to access files\n",
        "drive.mount('/content/gdrive')\n",
        "\n",
        "# Specify the name of the uploaded folder containing the images\n",
        "uploaded_folder = 'image_eye_size_project'\n",
        "\n",
        "# Combine the Google Drive path with the uploaded folder path\n",
        "image_folder = os.path.join('/content/gdrive/My Drive', uploaded_folder)\n",
        "\n",
        "# Get a list of image files in the folder\n",
        "image_files = os.listdir(image_folder)\n",
        "\n",
        "# Print the list of image files\n",
        "print(image_files)\n",
        "\n"
      ],
      "metadata": {
        "colab": {
          "base_uri": "https://localhost:8080/"
        },
        "id": "G19g9wxW8JRU",
        "outputId": "6ca6cfdf-c072-4665-b109-f524004d352b"
      },
      "execution_count": null,
      "outputs": [
        {
          "output_type": "stream",
          "name": "stdout",
          "text": [
            "Mounted at /content/gdrive\n",
            "['2016 01 13   LR 24H S1 control 3X.JPG', '2022 12 14   RA LR 24H S3 3X.JPG', '2016 01 12   LR 24H S1 control 3X.JPG', '2016 01 13   LR 24H S1 3X.JPG', ' 2022 11 26 100% DMSO LR 24H S1 control 3X.JPG', '2022 12 14   RA LR 24H S1 3X.JPG', '2022 03 20   LR 24H S2 3X.JPG', '2015 02 24   LR 24H S2 control 3X.JPG', '2022 04 27   LR 24H S1 3X.JPG', '2022 12 13 100% DMSO LR 24H S4 3X.JPG', '2015 02 24   LR 24H S4 control 3X.JPG', ' 2022 10 06 100% DMSO LR 24H S2 control 3X.JPG', '2022 12 13 100% DMSO LR 24H S2 control 3X.JPG', '2015 02 24   LR 24H S5 control 3X.JPG', '2022 12 13 100% DMSO   LR 24H S1 3X.JPG', ' 2022 10 06 100% DMSO LR 24H  S1 control 3X.JPG', '2022 12 13 100% DMSO LR 24H S5 control  3X.JPG', '2022 03 20   LR 24H S2 control 3X.JPG', '2015 02 24   LR 24H S4 3X.JPG', '2022 12 14   RA LR 24H S2 control 3X.JPG', '2015 02 24   LR 24H S2 3X.JPG', '2016 01 13   LR 24H S2 control 3X.JPG', '2022 12 14   RA LR 24H S2 3X.JPG', '2022 12 13 100% DMSO LR 24H S4 control 3X.JPG', '2016 01 12   LR 24H S1 3X.JPG', ' 2022 10 06 100% DMSO LR 24H S2 3X.JPG', '2016 01 12   LR 24H S6 3X.JPG', '2022 12 13 100% DMSO LR 24H S5  3X.JPG', '2022 12 14   LR 24H S1 3X.JPG', '2022 05 04   LR 24H S1 control 3X.JPG', '2022 05 04   LR 24H S1 3X.JPG', '2016 01 12   LR 24H S3 3X.JPG', '2022 12 13 100% DMSO LR 24H S2 3X.JPG', '2015 02 24   LR 24H S5 3X.JPG', '2022 12 13 100%  DMSO  LR 24H S3 3X.JPG', '2022 04 27   LR 24H S1 control 3X.JPG', '2016 01 12   LR 24H S3 control 3X.JPG', '2022 12 13 100% DMSO   LR 24H S1 control 3X.JPG', '2022 03 20   LR 24H S4 control 3X.JPG', '2022 12 14   LR 24H S1 contol 3X.JPG', '2022 12 14   RA LR 24H S1 control 3X.JPG', ' 2022 10 06 100% DMSO LR 24H  S1 3X .JPG', '2022 11 21   LR 24H S1 3X.JPG', '2016 01 13   LR 24H S2 3X.JPG', '2022 11 21   LR 24H S1 control 3X.JPG', '2022 03 20   LR 24H S5 control 3X.JPG', '2022 03 20   LR 24H S4 3X.JPG', '2022 03 20   LR 24H S5 3X.JPG', '2016 01 12   LR 24H S6 control 3X.JPG', ' 2022 10 06 100% DMSO LR 24H S1 control 3X .JPG', '2022 12 14   RA LR 24H S3 control 3X.JPG', ' 2022 10 26 100% DMSO LR 24H S1 3X .JPG', '2022 12 13 100% DMSO LR 24H S3 control  3X.JPG', '2023 07 08  Blue  LR 24H S1 3X.JPG', '2023 05 26  1% DMSO LR 24H S7 3X.JPG', '2023 05 26  1% DMSO LR 24H S1control 3X.JPG', '2023 05 26  1% DMSO LR 24H S3 3X.JPG', '2022 12 28   RA LR 24H S6 control 3X.JPG', '2023 01 26  100% DMSO LR 24H S1 3X.JPG', '2023 01 26  100% DMSO LR 24H S4 control 3X.JPG', '2022 12 28   RA LR 24H S2 control 3X.JPG', '2023 07 06  Blue  LR 24H S3 control 3X.JPG', '2022 12 28   RA LR 24H S6 3X.JPG', '2022 12 28   RA LR 24H S5 control 3X.JPG', '2022 12 14   RA LR 24H S4 3X.JPG', '2023 07 08  Blue  LR 24H S2 3X.JPG', '2023 01 26  100% DMSO LR 24H S5 control 3X.JPG', '2023 05 28  1% DMSO LR 24H S1 control 3X.JPG', '2023 05 26  1% DMSO LR 24H S2 control 3X .JPG', '2023 07 08  Blue  LR 24H S3 control 3X.JPG', '2023 07 08  Blue  LR 24H S2 control 3X.JPG', '2022 12 14   RA LR 24H S7 3X.JPG', '2022 12 14   RA LR 24H S5 3XJPG', '2023 07 08  Blue  LR 24H S4 control 3X.JPG', '2022 12 28   RA LR 24H S2 3X.JPG', '2022 12 28   LR 24H S3 control 3X.JPG', '2023 05 26  1% DMSO LR 24H S5 3X .JPG', '2023 05 28  1% DMSO LR 24H S3 control 3X.JPG', '2023 01 26  100% DMSO LR 24H S2 control 3X.JPG', '2023 07 08  Blue  LR 24H S4 3X.JPG', '2023 05 28  1% DMSO LR 24H S2 control 3X.JPG', '2023 01 26  100% DMSO LR 24H S4 3X.JPG', '2023 07 06  Blue  LR 24H S1 control 3X.JPG', '2022 12 14   RA LR 24H S5 control 3X.JPG', '2023 05 26  1% DMSO LR 24H S3 control 3X.JPG', '2022 12 28   RA LR 24H S4 control 3X.JPG', '2023 07 08  Blue  LR 24H S5 3X.JPG', '2023 05 28  1% DMSO LR 24H S4 control  3X.JPG', '2022 12 14   RA LR 24H S6 3X.JPG', '2023 05 26  1% DMSO LR 24H S9 3X .JPG', '2023 01 26  100% DMSO LR 24H S3 3X.JPG', '2022 12 14   RA LR 24H S7 control 3X.JPG', '2023 05 28  1% DMSO LR 24H S1 3X.JPG', '2022 12 28   RA LR 24H S1 3X.JPG', '2023 05 28  1% DMSO LR 24H S5 control 3X.JPG', '2022 12 28   RA LR 24H S4 3X.JPG', '2023 05 26  1% DMSO LR 24H S7 control 3X.JPG', '2023 05 26  1% DMSO LR 24H S1 3X .JPG', '2023 07 06  Blue  LR 24H S2 3X.JPG', '2023 01 26  100% DMSO LR 24H S5 3X.JPG', '2023 07 08  Blue  LR 24H S5 control 3X.JPG', '2023 05 26  1% DMSO LR 24H S10 control 3X.JPG', '2023 05 28  1% DMSO LR 24H S5 3X.JPG', '2023 07 06  Blue  LR 24H S1 3X.JPG', '2023 07 06  Blue  LR 24H S2 control 3X .JPG', '2023 05 28  1% DMSO LR 24H S3 3X.JPG', '2023 05 26  1% DMSO LR 24H S4 control 3X.JPG', '2023 01 26  100% DMSO LR 24H S2 3X.JPG', '2022 12 14   RA LR 24H S6 control 3X.JPG', '2023 07 08  Blue  LR 24H S1 control 3X.JPG', '2022 12 28   RA LR 24H S1 control 3X.JPG', '2023 05 26  1% DMSO LR 24H S4 3X.JPG', '2022 12 28   LR 24H S4 control 3X.JPG', '2023 05 26  1% DMSO LR 24H S10 3X.JPG', '2022 12 28   LR 24H S4 3X.JPG', '2023 05 28  1% DMSO LR 24H S4 3X.JPG', '2023 01 26  100% DMSO LR 24H S3 control 3X.JPG', '2023 05 26  1% DMSO LR 24H S5 control 3X.JPG', '2023 07 08  Blue  LR 24H S3 3X.JPG', '2023 05 26  1% DMSO LR 24H S6 control 3X.JPG', '2022 12 28   RA LR 24H S5 3X.JPG', '2023 05 26  1% DMSO LR 24H S9 control 3X.JPG', '2023 05 26  1% DMSO LR 24H S6 3X.JPG', '2023 07 06  Blue  LR 24H S3 3X.JPG', '2022 12 28   LR 24H S3 3X.JPG', '2022 12 14   RA LR 24H S4 control 3X.JPG', '2023 05 28  1% DMSO LR 24H S2 3X.JPG', '2023 05 26  1% DMSO LR 24H S2 3X .JPG', '2023 01 26  100% DMSO LR 24H S1 control 3X.JPG']\n"
          ]
        }
      ]
    },
    {
      "cell_type": "code",
      "source": [
        "# Step 2: Define preprocessing functions\n",
        "def resize_image(image, target_size):\n",
        "    return cv2.resize(image, target_size)\n",
        "\n",
        "def denoise_image(image):\n",
        "    return cv2.fastNlMeansDenoisingColored(image, None, 10, 10, 7, 21)\n"
      ],
      "metadata": {
        "id": "QD3CBwvc3V-6"
      },
      "execution_count": null,
      "outputs": []
    },
    {
      "cell_type": "code",
      "source": [
        "# Step 3: Batch processing\n",
        "for filename in image_files:\n",
        "    image_path = os.path.join(image_folder, filename)\n",
        "    image = cv2.imread(image_path, cv2.IMREAD_COLOR)\n",
        "\n",
        "    # Step 4: Apply preprocessing functions\n",
        "    resized_image = resize_image(image, (500, 500))\n",
        "    denoised_image = denoise_image(resized_image)\n",
        "\n",
        "\n",
        "    # Step 5: Save the preprocessed image (optional)\n",
        "    # You can save the preprocessed images to a new folder if needed\n",
        "    destination_folder = '/content/gdrive/My Drive/denoised image of the eye size project/'\n",
        "    output_filename = filename.replace('.JPG', '_denoised.jpg')  # Replace '.JPG' with the appropriate file extension of your original images\n",
        "    output_path = os.path.join(destination_folder, output_filename)\n",
        "    cv2.imwrite(output_path, denoised_image)\n",
        "\n"
      ],
      "metadata": {
        "id": "fuDpU7RITngJ",
        "colab": {
          "base_uri": "https://localhost:8080/",
          "height": 220
        },
        "outputId": "df192758-7513-4750-8edb-a138eaa31816"
      },
      "execution_count": 27,
      "outputs": [
        {
          "output_type": "error",
          "ename": "error",
          "evalue": "ignored",
          "traceback": [
            "\u001b[0;31m---------------------------------------------------------------------------\u001b[0m",
            "\u001b[0;31merror\u001b[0m                                     Traceback (most recent call last)",
            "\u001b[0;32m<ipython-input-27-e039077ab70a>\u001b[0m in \u001b[0;36m<cell line: 2>\u001b[0;34m()\u001b[0m\n\u001b[1;32m     14\u001b[0m     \u001b[0moutput_filename\u001b[0m \u001b[0;34m=\u001b[0m \u001b[0mfilename\u001b[0m\u001b[0;34m.\u001b[0m\u001b[0mreplace\u001b[0m\u001b[0;34m(\u001b[0m\u001b[0;34m'.JPG'\u001b[0m\u001b[0;34m,\u001b[0m \u001b[0;34m'_denoised.jpg'\u001b[0m\u001b[0;34m)\u001b[0m  \u001b[0;31m# Replace '.JPG' with the appropriate file extension of your original images\u001b[0m\u001b[0;34m\u001b[0m\u001b[0;34m\u001b[0m\u001b[0m\n\u001b[1;32m     15\u001b[0m     \u001b[0moutput_path\u001b[0m \u001b[0;34m=\u001b[0m \u001b[0mos\u001b[0m\u001b[0;34m.\u001b[0m\u001b[0mpath\u001b[0m\u001b[0;34m.\u001b[0m\u001b[0mjoin\u001b[0m\u001b[0;34m(\u001b[0m\u001b[0mdestination_folder\u001b[0m\u001b[0;34m,\u001b[0m \u001b[0moutput_filename\u001b[0m\u001b[0;34m)\u001b[0m\u001b[0;34m\u001b[0m\u001b[0;34m\u001b[0m\u001b[0m\n\u001b[0;32m---> 16\u001b[0;31m     \u001b[0mcv2\u001b[0m\u001b[0;34m.\u001b[0m\u001b[0mimwrite\u001b[0m\u001b[0;34m(\u001b[0m\u001b[0moutput_path\u001b[0m\u001b[0;34m,\u001b[0m \u001b[0mdenoised_image\u001b[0m\u001b[0;34m)\u001b[0m\u001b[0;34m\u001b[0m\u001b[0;34m\u001b[0m\u001b[0m\n\u001b[0m\u001b[1;32m     17\u001b[0m \u001b[0;34m\u001b[0m\u001b[0m\n",
            "\u001b[0;31merror\u001b[0m: OpenCV(4.7.0) /io/opencv/modules/imgcodecs/src/loadsave.cpp:692: error: (-2:Unspecified error) could not find a writer for the specified extension in function 'imwrite_'\n"
          ]
        }
      ]
    },
    {
      "cell_type": "code",
      "source": [
        "# Step 3: Image Thresholding\n",
        "# Replace 'threshold_value' with an appropriate value that suits your images\n",
        "_, binary_image = cv2.threshold(image, threshold_value, 255, cv2.THRESH_BINARY)\n"
      ],
      "metadata": {
        "id": "HD0AS4DH3X8C"
      },
      "execution_count": null,
      "outputs": []
    },
    {
      "cell_type": "code",
      "source": [
        "# Step 4: Contour Detection\n",
        "contours, _ = cv2.findContours(binary_image, cv2.RETR_EXTERNAL, cv2.CHAIN_APPROX_SIMPLE)"
      ],
      "metadata": {
        "id": "YLumdrYy3Z0S"
      },
      "execution_count": null,
      "outputs": []
    },
    {
      "cell_type": "code",
      "source": [
        "# Step 5: Diameter Measurement\n",
        "measurements = []\n",
        "for contour in contours:\n",
        "    # Fit an ellipse to the contour\n",
        "    ellipse = cv2.fitEllipse(contour)\n",
        "    center, (major_axis, minor_axis), angle = ellipse\n",
        "\n",
        "    # Calculate horizontal and vertical diameters\n",
        "    horizontal_diameter = major_axis\n",
        "    vertical_diameter = minor_axis\n",
        "\n",
        "    # Calculate average diameter\n",
        "    average_diameter = (horizontal_diameter + vertical_diameter) / 2\n",
        "\n",
        "    # Calculate area\n",
        "    area = np.pi * (horizontal_diameter / 2) * (vertical_diameter / 2)\n",
        "\n",
        "    # Store measurements in a list\n",
        "    measurements.append([horizontal_diameter, vertical_diameter, average_diameter, area])"
      ],
      "metadata": {
        "id": "Z_c964Vm3dqa"
      },
      "execution_count": null,
      "outputs": []
    },
    {
      "cell_type": "code",
      "source": [
        "# Step 6: Create a DataFrame and save measurements to CSV\n",
        "df = pd.DataFrame(measurements, columns=['Horizontal Diameter', 'Vertical Diameter', 'Average Diameter', 'Area'])\n",
        "df.to_csv('eye_measurements.csv', index=False)"
      ],
      "metadata": {
        "id": "4g19vxbL3h56"
      },
      "execution_count": null,
      "outputs": []
    }
  ]
}